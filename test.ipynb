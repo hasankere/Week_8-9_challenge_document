{
 "cells": [
  {
   "cell_type": "code",
   "execution_count": 1,
   "metadata": {},
   "outputs": [],
   "source": [
    "import os"
   ]
  },
  {
   "cell_type": "code",
   "execution_count": 2,
   "metadata": {},
   "outputs": [
    {
     "name": "stdout",
     "output_type": "stream",
     "text": [
      "Folder structure created successfully.\n"
     ]
    }
   ],
   "source": [
    "\n",
    "# Define the folder structure\n",
    "folders = [\n",
    "    \".vscode\",\n",
    "    \".github/workflows\",\n",
    "    \"src\",\n",
    "    \"notebooks\",\n",
    "    \"tests\",\n",
    "    \"scripts\"\n",
    "]\n",
    "\n",
    "# Files to be created\n",
    "files = {\n",
    "    \".vscode/settings.json\": \"\",\n",
    "    \".github/workflows/unittests.yml\": \"\",\n",
    "    \".gitignore\": \"\",\n",
    "    \"requirements.txt\": \"\",\n",
    "    \"README.md\": \"\",\n",
    "    \"Dockerfile\": \"\",  # Added Dockerfile\n",
    "    \"src/__init__.py\": \"\",\n",
    "    \"notebooks/__init__.py\": \"\",\n",
    "    \"notebooks/README.md\": \"\",\n",
    "    \"tests/__init__.py\": \"\",\n",
    "    \"scripts/__init__.py\": \"\",\n",
    "    \"scripts/README.md\": \"\"\n",
    "}\n",
    "\n",
    "# Create folders\n",
    "for folder in folders:\n",
    "    os.makedirs(folder, exist_ok=True)\n",
    "\n",
    "# Create files\n",
    "for file_path, content in files.items():\n",
    "    with open(file_path, \"w\") as f:\n",
    "        f.write(content)\n",
    "\n",
    "print(\"Folder structure created successfully.\")\n"
   ]
  }
 ],
 "metadata": {
  "kernelspec": {
   "display_name": "Python 3",
   "language": "python",
   "name": "python3"
  },
  "language_info": {
   "codemirror_mode": {
    "name": "ipython",
    "version": 3
   },
   "file_extension": ".py",
   "mimetype": "text/x-python",
   "name": "python",
   "nbconvert_exporter": "python",
   "pygments_lexer": "ipython3",
   "version": "3.9.13"
  }
 },
 "nbformat": 4,
 "nbformat_minor": 2
}
